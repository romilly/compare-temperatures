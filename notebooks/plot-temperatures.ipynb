{
 "cells": [
  {
   "cell_type": "code",
   "execution_count": 1,
   "metadata": {
    "collapsed": true,
    "pycharm": {
     "name": "#%%\n"
    }
   },
   "outputs": [],
   "source": [
    "import pandas\n",
    "import matplotlib"
   ]
  },
  {
   "cell_type": "code",
   "execution_count": 2,
   "outputs": [],
   "source": [
    "from compare_temperatures.plot_temperatures import read_adafruit_feed_csv\n",
    "yesterday = '2022-08-23'"
   ],
   "metadata": {
    "collapsed": false,
    "pycharm": {
     "name": "#%%\n"
    }
   }
  },
  {
   "cell_type": "code",
   "execution_count": 3,
   "outputs": [],
   "source": [
    "bme280 = read_adafruit_feed_csv('data/bme280-temp-20220824-0701.csv', 'bme280', yesterday)\n",
    "tmp36 = read_adafruit_feed_csv('data/temp-tmp36-20220824-0659.csv', 'tmp36', yesterday)"
   ],
   "metadata": {
    "collapsed": false,
    "pycharm": {
     "name": "#%%\n"
    }
   }
  },
  {
   "cell_type": "code",
   "execution_count": 4,
   "outputs": [
    {
     "data": {
      "text/plain": "      bme280                created_at\n5986   23.13 2022-08-23 07:35:56+00:00\n5987   22.27 2022-08-23 07:36:56+00:00\n5988   22.28 2022-08-23 07:37:56+00:00\n5989   22.39 2022-08-23 07:38:56+00:00\n5990   22.24 2022-08-23 07:39:56+00:00\n...      ...                       ...\n7386   20.94 2022-08-24 06:56:29+00:00\n7387   20.91 2022-08-24 06:57:29+00:00\n7388   20.99 2022-08-24 06:58:29+00:00\n7389   20.93 2022-08-24 06:59:29+00:00\n7390   20.99 2022-08-24 07:00:29+00:00\n\n[1405 rows x 2 columns]",
      "text/html": "<div>\n<style scoped>\n    .dataframe tbody tr th:only-of-type {\n        vertical-align: middle;\n    }\n\n    .dataframe tbody tr th {\n        vertical-align: top;\n    }\n\n    .dataframe thead th {\n        text-align: right;\n    }\n</style>\n<table border=\"1\" class=\"dataframe\">\n  <thead>\n    <tr style=\"text-align: right;\">\n      <th></th>\n      <th>bme280</th>\n      <th>created_at</th>\n    </tr>\n  </thead>\n  <tbody>\n    <tr>\n      <th>5986</th>\n      <td>23.13</td>\n      <td>2022-08-23 07:35:56+00:00</td>\n    </tr>\n    <tr>\n      <th>5987</th>\n      <td>22.27</td>\n      <td>2022-08-23 07:36:56+00:00</td>\n    </tr>\n    <tr>\n      <th>5988</th>\n      <td>22.28</td>\n      <td>2022-08-23 07:37:56+00:00</td>\n    </tr>\n    <tr>\n      <th>5989</th>\n      <td>22.39</td>\n      <td>2022-08-23 07:38:56+00:00</td>\n    </tr>\n    <tr>\n      <th>5990</th>\n      <td>22.24</td>\n      <td>2022-08-23 07:39:56+00:00</td>\n    </tr>\n    <tr>\n      <th>...</th>\n      <td>...</td>\n      <td>...</td>\n    </tr>\n    <tr>\n      <th>7386</th>\n      <td>20.94</td>\n      <td>2022-08-24 06:56:29+00:00</td>\n    </tr>\n    <tr>\n      <th>7387</th>\n      <td>20.91</td>\n      <td>2022-08-24 06:57:29+00:00</td>\n    </tr>\n    <tr>\n      <th>7388</th>\n      <td>20.99</td>\n      <td>2022-08-24 06:58:29+00:00</td>\n    </tr>\n    <tr>\n      <th>7389</th>\n      <td>20.93</td>\n      <td>2022-08-24 06:59:29+00:00</td>\n    </tr>\n    <tr>\n      <th>7390</th>\n      <td>20.99</td>\n      <td>2022-08-24 07:00:29+00:00</td>\n    </tr>\n  </tbody>\n</table>\n<p>1405 rows × 2 columns</p>\n</div>"
     },
     "execution_count": 4,
     "metadata": {},
     "output_type": "execute_result"
    }
   ],
   "source": [
    "bme28"
   ],
   "metadata": {
    "collapsed": false,
    "pycharm": {
     "name": "#%%\n"
    }
   }
  },
  {
   "cell_type": "code",
   "execution_count": null,
   "metadata": {
    "pycharm": {
     "name": "#%%\n"
    }
   },
   "outputs": [],
   "source": []
  }
 ],
 "metadata": {
  "kernelspec": {
   "display_name": "Python 3 (ipykernel)",
   "language": "python",
   "name": "python3"
  },
  "language_info": {
   "codemirror_mode": {
    "name": "ipython",
    "version": 3
   },
   "file_extension": ".py",
   "mimetype": "text/x-python",
   "name": "python",
   "nbconvert_exporter": "python",
   "pygments_lexer": "ipython3",
   "version": "3.8.10"
  }
 },
 "nbformat": 4,
 "nbformat_minor": 1
}