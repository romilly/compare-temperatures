{
 "cells": [
  {
   "cell_type": "code",
   "execution_count": 1,
   "metadata": {
    "collapsed": true,
    "pycharm": {
     "name": "#%%\n"
    }
   },
   "outputs": [],
   "source": [
    "import pandas\n",
    "import matplotlib"
   ]
  },
  {
   "cell_type": "code",
   "execution_count": 32,
   "outputs": [],
   "source": [
    "bme280_df = pandas.read_csv('data/bme280-temp-20220824-0701.csv', parse_dates=['created_at'])"
   ],
   "metadata": {
    "collapsed": false,
    "pycharm": {
     "name": "#%%\n"
    }
   }
  },
  {
   "cell_type": "code",
   "execution_count": 33,
   "outputs": [],
   "source": [
    "bme280_df.dropna(axis=1, how='all',inplace=True)"
   ],
   "metadata": {
    "collapsed": false,
    "pycharm": {
     "name": "#%%\n"
    }
   }
  },
  {
   "cell_type": "code",
   "execution_count": 34,
   "outputs": [
    {
     "data": {
      "text/plain": "                              id  value  feed_id                created_at\n0     0F394802PN525D0ZDE538HAX3W  28.07  2301481 2022-08-15 09:33:11+00:00\n1     0F3948KE7CYNAEKZPEZCKXNREF  27.60  2301481 2022-08-15 09:34:15+00:00\n2     0F39494SEG5W51HTACX9DGG3YV  27.60  2301481 2022-08-15 09:35:12+00:00\n3     0F3949Q2JBHQXNZBHM7CG0KFJ9  27.57  2301481 2022-08-15 09:36:11+00:00\n4     0F394A9BWAE6ACTAQ9PM2DRAAG  27.59  2301481 2022-08-15 09:37:11+00:00\n...                          ...    ...      ...                       ...\n7386  0F3G963A7HKN6PFPJMK1WKX50Z  20.94  2301481 2022-08-24 06:56:29+00:00\n7387  0F3G96NK80QB0R1ZD86MDJV9GC  20.91  2301481 2022-08-24 06:57:29+00:00\n7388  0F3G97819MBF3T7PKWNZGT4T5K  20.99  2301481 2022-08-24 06:58:29+00:00\n7389  0F3G97TAAXENT27BZPVM7JPP4D  20.93  2301481 2022-08-24 06:59:29+00:00\n7390  0F3G98CKCJVN5WXD44WD1N9XET  20.99  2301481 2022-08-24 07:00:29+00:00\n\n[7391 rows x 4 columns]",
      "text/html": "<div>\n<style scoped>\n    .dataframe tbody tr th:only-of-type {\n        vertical-align: middle;\n    }\n\n    .dataframe tbody tr th {\n        vertical-align: top;\n    }\n\n    .dataframe thead th {\n        text-align: right;\n    }\n</style>\n<table border=\"1\" class=\"dataframe\">\n  <thead>\n    <tr style=\"text-align: right;\">\n      <th></th>\n      <th>id</th>\n      <th>value</th>\n      <th>feed_id</th>\n      <th>created_at</th>\n    </tr>\n  </thead>\n  <tbody>\n    <tr>\n      <th>0</th>\n      <td>0F394802PN525D0ZDE538HAX3W</td>\n      <td>28.07</td>\n      <td>2301481</td>\n      <td>2022-08-15 09:33:11+00:00</td>\n    </tr>\n    <tr>\n      <th>1</th>\n      <td>0F3948KE7CYNAEKZPEZCKXNREF</td>\n      <td>27.60</td>\n      <td>2301481</td>\n      <td>2022-08-15 09:34:15+00:00</td>\n    </tr>\n    <tr>\n      <th>2</th>\n      <td>0F39494SEG5W51HTACX9DGG3YV</td>\n      <td>27.60</td>\n      <td>2301481</td>\n      <td>2022-08-15 09:35:12+00:00</td>\n    </tr>\n    <tr>\n      <th>3</th>\n      <td>0F3949Q2JBHQXNZBHM7CG0KFJ9</td>\n      <td>27.57</td>\n      <td>2301481</td>\n      <td>2022-08-15 09:36:11+00:00</td>\n    </tr>\n    <tr>\n      <th>4</th>\n      <td>0F394A9BWAE6ACTAQ9PM2DRAAG</td>\n      <td>27.59</td>\n      <td>2301481</td>\n      <td>2022-08-15 09:37:11+00:00</td>\n    </tr>\n    <tr>\n      <th>...</th>\n      <td>...</td>\n      <td>...</td>\n      <td>...</td>\n      <td>...</td>\n    </tr>\n    <tr>\n      <th>7386</th>\n      <td>0F3G963A7HKN6PFPJMK1WKX50Z</td>\n      <td>20.94</td>\n      <td>2301481</td>\n      <td>2022-08-24 06:56:29+00:00</td>\n    </tr>\n    <tr>\n      <th>7387</th>\n      <td>0F3G96NK80QB0R1ZD86MDJV9GC</td>\n      <td>20.91</td>\n      <td>2301481</td>\n      <td>2022-08-24 06:57:29+00:00</td>\n    </tr>\n    <tr>\n      <th>7388</th>\n      <td>0F3G97819MBF3T7PKWNZGT4T5K</td>\n      <td>20.99</td>\n      <td>2301481</td>\n      <td>2022-08-24 06:58:29+00:00</td>\n    </tr>\n    <tr>\n      <th>7389</th>\n      <td>0F3G97TAAXENT27BZPVM7JPP4D</td>\n      <td>20.93</td>\n      <td>2301481</td>\n      <td>2022-08-24 06:59:29+00:00</td>\n    </tr>\n    <tr>\n      <th>7390</th>\n      <td>0F3G98CKCJVN5WXD44WD1N9XET</td>\n      <td>20.99</td>\n      <td>2301481</td>\n      <td>2022-08-24 07:00:29+00:00</td>\n    </tr>\n  </tbody>\n</table>\n<p>7391 rows × 4 columns</p>\n</div>"
     },
     "execution_count": 34,
     "metadata": {},
     "output_type": "execute_result"
    }
   ],
   "source": [
    "bme280_df"
   ],
   "metadata": {
    "collapsed": false,
    "pycharm": {
     "name": "#%%\n"
    }
   }
  },
  {
   "cell_type": "code",
   "execution_count": 35,
   "outputs": [],
   "source": [
    "tmp36_df =  pandas.read_csv('data/temp-tmp36-20220824-0659.csv',  parse_dates=['created_at'])"
   ],
   "metadata": {
    "collapsed": false,
    "pycharm": {
     "name": "#%%\n"
    }
   }
  },
  {
   "cell_type": "code",
   "execution_count": 36,
   "outputs": [],
   "source": [
    "tmp36_df.dropna(axis=1, how='all', inplace=True)"
   ],
   "metadata": {
    "collapsed": false,
    "pycharm": {
     "name": "#%%\n"
    }
   }
  },
  {
   "cell_type": "code",
   "execution_count": 37,
   "outputs": [
    {
     "data": {
      "text/plain": "                              id  value  feed_id                created_at\n5986  0F3FG4PJWS6Y4DM8J4MX7JADTC  23.13  2301481 2022-08-23 07:35:56+00:00\n5987  0F3FG58YC0NBPSXARM9B0XG21K  22.27  2301481 2022-08-23 07:36:56+00:00\n5988  0F3FG5V7DX244Y45PSD7M1AMQN  22.28  2301481 2022-08-23 07:37:56+00:00\n5989  0F3FG6DGEE422Q8WCM8NBK0F5K  22.39  2301481 2022-08-23 07:38:56+00:00\n5990  0F3FG6ZYFQTBCJYZW6HJ0KCA03  22.24  2301481 2022-08-23 07:39:56+00:00\n...                          ...    ...      ...                       ...\n7386  0F3G963A7HKN6PFPJMK1WKX50Z  20.94  2301481 2022-08-24 06:56:29+00:00\n7387  0F3G96NK80QB0R1ZD86MDJV9GC  20.91  2301481 2022-08-24 06:57:29+00:00\n7388  0F3G97819MBF3T7PKWNZGT4T5K  20.99  2301481 2022-08-24 06:58:29+00:00\n7389  0F3G97TAAXENT27BZPVM7JPP4D  20.93  2301481 2022-08-24 06:59:29+00:00\n7390  0F3G98CKCJVN5WXD44WD1N9XET  20.99  2301481 2022-08-24 07:00:29+00:00\n\n[1405 rows x 4 columns]",
      "text/html": "<div>\n<style scoped>\n    .dataframe tbody tr th:only-of-type {\n        vertical-align: middle;\n    }\n\n    .dataframe tbody tr th {\n        vertical-align: top;\n    }\n\n    .dataframe thead th {\n        text-align: right;\n    }\n</style>\n<table border=\"1\" class=\"dataframe\">\n  <thead>\n    <tr style=\"text-align: right;\">\n      <th></th>\n      <th>id</th>\n      <th>value</th>\n      <th>feed_id</th>\n      <th>created_at</th>\n    </tr>\n  </thead>\n  <tbody>\n    <tr>\n      <th>5986</th>\n      <td>0F3FG4PJWS6Y4DM8J4MX7JADTC</td>\n      <td>23.13</td>\n      <td>2301481</td>\n      <td>2022-08-23 07:35:56+00:00</td>\n    </tr>\n    <tr>\n      <th>5987</th>\n      <td>0F3FG58YC0NBPSXARM9B0XG21K</td>\n      <td>22.27</td>\n      <td>2301481</td>\n      <td>2022-08-23 07:36:56+00:00</td>\n    </tr>\n    <tr>\n      <th>5988</th>\n      <td>0F3FG5V7DX244Y45PSD7M1AMQN</td>\n      <td>22.28</td>\n      <td>2301481</td>\n      <td>2022-08-23 07:37:56+00:00</td>\n    </tr>\n    <tr>\n      <th>5989</th>\n      <td>0F3FG6DGEE422Q8WCM8NBK0F5K</td>\n      <td>22.39</td>\n      <td>2301481</td>\n      <td>2022-08-23 07:38:56+00:00</td>\n    </tr>\n    <tr>\n      <th>5990</th>\n      <td>0F3FG6ZYFQTBCJYZW6HJ0KCA03</td>\n      <td>22.24</td>\n      <td>2301481</td>\n      <td>2022-08-23 07:39:56+00:00</td>\n    </tr>\n    <tr>\n      <th>...</th>\n      <td>...</td>\n      <td>...</td>\n      <td>...</td>\n      <td>...</td>\n    </tr>\n    <tr>\n      <th>7386</th>\n      <td>0F3G963A7HKN6PFPJMK1WKX50Z</td>\n      <td>20.94</td>\n      <td>2301481</td>\n      <td>2022-08-24 06:56:29+00:00</td>\n    </tr>\n    <tr>\n      <th>7387</th>\n      <td>0F3G96NK80QB0R1ZD86MDJV9GC</td>\n      <td>20.91</td>\n      <td>2301481</td>\n      <td>2022-08-24 06:57:29+00:00</td>\n    </tr>\n    <tr>\n      <th>7388</th>\n      <td>0F3G97819MBF3T7PKWNZGT4T5K</td>\n      <td>20.99</td>\n      <td>2301481</td>\n      <td>2022-08-24 06:58:29+00:00</td>\n    </tr>\n    <tr>\n      <th>7389</th>\n      <td>0F3G97TAAXENT27BZPVM7JPP4D</td>\n      <td>20.93</td>\n      <td>2301481</td>\n      <td>2022-08-24 06:59:29+00:00</td>\n    </tr>\n    <tr>\n      <th>7390</th>\n      <td>0F3G98CKCJVN5WXD44WD1N9XET</td>\n      <td>20.99</td>\n      <td>2301481</td>\n      <td>2022-08-24 07:00:29+00:00</td>\n    </tr>\n  </tbody>\n</table>\n<p>1405 rows × 4 columns</p>\n</div>"
     },
     "execution_count": 37,
     "metadata": {},
     "output_type": "execute_result"
    }
   ],
   "source": [
    "yesterday = '2022-08-23'\n",
    "bmey = bme280_df[bme280_df['created_at']>= yesterday]\n",
    "bmey"
   ],
   "metadata": {
    "collapsed": false,
    "pycharm": {
     "name": "#%%\n"
    }
   }
  },
  {
   "cell_type": "code",
   "execution_count": 38,
   "outputs": [
    {
     "data": {
      "text/plain": "                              id     value  feed_id                created_at\n1524  0F3FG5R1VCYFQHC4CZHY5KZNDM  24.94300  2303967 2022-08-23 07:37:46+00:00\n1525  0F3FG6ADBABYJCSKWHT20JV35Y  25.50698  2303967 2022-08-23 07:38:46+00:00\n1526  0F3FG6WPECMYGWR0RGNHV86WVW  25.02358  2303967 2022-08-23 07:39:46+00:00\n1527  0F3FG7EZEC48XPPXH3TCV7AV2X  25.42642  2303967 2022-08-23 07:40:46+00:00\n1528  0F3FG818FQRY2P6TA1XMJ738X4  25.42642  2303967 2022-08-23 07:41:46+00:00\n...                          ...       ...      ...                       ...\n2921  0F3G954M9ZEGJ2T71AT1845B3P  24.21790  2303967 2022-08-24 06:54:48+00:00\n2922  0F3G95PXC2SHYFMT4ZKG3WENEV  23.97620  2303967 2022-08-24 06:55:48+00:00\n2923  0F3G9696E936QVA1KEJA79610Q  24.21790  2303967 2022-08-24 06:56:48+00:00\n2924  0F3G96VFE4S3TV5SPR5AA8CF99  23.97620  2303967 2022-08-24 06:57:48+00:00\n2925  0F3G97DRJPPFT4QPS24MH98KYQ  24.29847  2303967 2022-08-24 06:58:48+00:00\n\n[1402 rows x 4 columns]",
      "text/html": "<div>\n<style scoped>\n    .dataframe tbody tr th:only-of-type {\n        vertical-align: middle;\n    }\n\n    .dataframe tbody tr th {\n        vertical-align: top;\n    }\n\n    .dataframe thead th {\n        text-align: right;\n    }\n</style>\n<table border=\"1\" class=\"dataframe\">\n  <thead>\n    <tr style=\"text-align: right;\">\n      <th></th>\n      <th>id</th>\n      <th>value</th>\n      <th>feed_id</th>\n      <th>created_at</th>\n    </tr>\n  </thead>\n  <tbody>\n    <tr>\n      <th>1524</th>\n      <td>0F3FG5R1VCYFQHC4CZHY5KZNDM</td>\n      <td>24.94300</td>\n      <td>2303967</td>\n      <td>2022-08-23 07:37:46+00:00</td>\n    </tr>\n    <tr>\n      <th>1525</th>\n      <td>0F3FG6ADBABYJCSKWHT20JV35Y</td>\n      <td>25.50698</td>\n      <td>2303967</td>\n      <td>2022-08-23 07:38:46+00:00</td>\n    </tr>\n    <tr>\n      <th>1526</th>\n      <td>0F3FG6WPECMYGWR0RGNHV86WVW</td>\n      <td>25.02358</td>\n      <td>2303967</td>\n      <td>2022-08-23 07:39:46+00:00</td>\n    </tr>\n    <tr>\n      <th>1527</th>\n      <td>0F3FG7EZEC48XPPXH3TCV7AV2X</td>\n      <td>25.42642</td>\n      <td>2303967</td>\n      <td>2022-08-23 07:40:46+00:00</td>\n    </tr>\n    <tr>\n      <th>1528</th>\n      <td>0F3FG818FQRY2P6TA1XMJ738X4</td>\n      <td>25.42642</td>\n      <td>2303967</td>\n      <td>2022-08-23 07:41:46+00:00</td>\n    </tr>\n    <tr>\n      <th>...</th>\n      <td>...</td>\n      <td>...</td>\n      <td>...</td>\n      <td>...</td>\n    </tr>\n    <tr>\n      <th>2921</th>\n      <td>0F3G954M9ZEGJ2T71AT1845B3P</td>\n      <td>24.21790</td>\n      <td>2303967</td>\n      <td>2022-08-24 06:54:48+00:00</td>\n    </tr>\n    <tr>\n      <th>2922</th>\n      <td>0F3G95PXC2SHYFMT4ZKG3WENEV</td>\n      <td>23.97620</td>\n      <td>2303967</td>\n      <td>2022-08-24 06:55:48+00:00</td>\n    </tr>\n    <tr>\n      <th>2923</th>\n      <td>0F3G9696E936QVA1KEJA79610Q</td>\n      <td>24.21790</td>\n      <td>2303967</td>\n      <td>2022-08-24 06:56:48+00:00</td>\n    </tr>\n    <tr>\n      <th>2924</th>\n      <td>0F3G96VFE4S3TV5SPR5AA8CF99</td>\n      <td>23.97620</td>\n      <td>2303967</td>\n      <td>2022-08-24 06:57:48+00:00</td>\n    </tr>\n    <tr>\n      <th>2925</th>\n      <td>0F3G97DRJPPFT4QPS24MH98KYQ</td>\n      <td>24.29847</td>\n      <td>2303967</td>\n      <td>2022-08-24 06:58:48+00:00</td>\n    </tr>\n  </tbody>\n</table>\n<p>1402 rows × 4 columns</p>\n</div>"
     },
     "execution_count": 38,
     "metadata": {},
     "output_type": "execute_result"
    }
   ],
   "source": [
    "tmp36y = tmp36_df[tmp36_df['created_at'] >= yesterday]\n",
    "tmp36y"
   ],
   "metadata": {
    "collapsed": false,
    "pycharm": {
     "name": "#%%\n"
    }
   }
  },
  {
   "cell_type": "markdown",
   "source": [
    "I need to\n",
    "2. remove id, feed_id\n",
    "1. rename the value columns so they have different names\n",
    "3. convert the dates into yyyy-mm-dd-hh-mm values so the two tables can be joined\n",
    "2. join the and remove data rows with NANs"
   ],
   "metadata": {
    "collapsed": false,
    "pycharm": {
     "name": "#%% md\n"
    }
   }
  },
  {
   "cell_type": "code",
   "execution_count": 39,
   "outputs": [],
   "source": [
    "del bmey['id']\n",
    "del bmey['feed_id']\n"
   ],
   "metadata": {
    "collapsed": false,
    "pycharm": {
     "name": "#%%\n"
    }
   }
  },
  {
   "cell_type": "code",
   "execution_count": 40,
   "outputs": [
    {
     "data": {
      "text/plain": "      value                created_at\n5986  23.13 2022-08-23 07:35:56+00:00\n5987  22.27 2022-08-23 07:36:56+00:00\n5988  22.28 2022-08-23 07:37:56+00:00\n5989  22.39 2022-08-23 07:38:56+00:00\n5990  22.24 2022-08-23 07:39:56+00:00\n...     ...                       ...\n7386  20.94 2022-08-24 06:56:29+00:00\n7387  20.91 2022-08-24 06:57:29+00:00\n7388  20.99 2022-08-24 06:58:29+00:00\n7389  20.93 2022-08-24 06:59:29+00:00\n7390  20.99 2022-08-24 07:00:29+00:00\n\n[1405 rows x 2 columns]",
      "text/html": "<div>\n<style scoped>\n    .dataframe tbody tr th:only-of-type {\n        vertical-align: middle;\n    }\n\n    .dataframe tbody tr th {\n        vertical-align: top;\n    }\n\n    .dataframe thead th {\n        text-align: right;\n    }\n</style>\n<table border=\"1\" class=\"dataframe\">\n  <thead>\n    <tr style=\"text-align: right;\">\n      <th></th>\n      <th>value</th>\n      <th>created_at</th>\n    </tr>\n  </thead>\n  <tbody>\n    <tr>\n      <th>5986</th>\n      <td>23.13</td>\n      <td>2022-08-23 07:35:56+00:00</td>\n    </tr>\n    <tr>\n      <th>5987</th>\n      <td>22.27</td>\n      <td>2022-08-23 07:36:56+00:00</td>\n    </tr>\n    <tr>\n      <th>5988</th>\n      <td>22.28</td>\n      <td>2022-08-23 07:37:56+00:00</td>\n    </tr>\n    <tr>\n      <th>5989</th>\n      <td>22.39</td>\n      <td>2022-08-23 07:38:56+00:00</td>\n    </tr>\n    <tr>\n      <th>5990</th>\n      <td>22.24</td>\n      <td>2022-08-23 07:39:56+00:00</td>\n    </tr>\n    <tr>\n      <th>...</th>\n      <td>...</td>\n      <td>...</td>\n    </tr>\n    <tr>\n      <th>7386</th>\n      <td>20.94</td>\n      <td>2022-08-24 06:56:29+00:00</td>\n    </tr>\n    <tr>\n      <th>7387</th>\n      <td>20.91</td>\n      <td>2022-08-24 06:57:29+00:00</td>\n    </tr>\n    <tr>\n      <th>7388</th>\n      <td>20.99</td>\n      <td>2022-08-24 06:58:29+00:00</td>\n    </tr>\n    <tr>\n      <th>7389</th>\n      <td>20.93</td>\n      <td>2022-08-24 06:59:29+00:00</td>\n    </tr>\n    <tr>\n      <th>7390</th>\n      <td>20.99</td>\n      <td>2022-08-24 07:00:29+00:00</td>\n    </tr>\n  </tbody>\n</table>\n<p>1405 rows × 2 columns</p>\n</div>"
     },
     "execution_count": 40,
     "metadata": {},
     "output_type": "execute_result"
    }
   ],
   "source": [
    "bmey"
   ],
   "metadata": {
    "collapsed": false,
    "pycharm": {
     "name": "#%%\n"
    }
   }
  },
  {
   "cell_type": "code",
   "execution_count": 41,
   "outputs": [],
   "source": [
    "del tmp36y['id']\n",
    "del tmp36y['feed_id']\n"
   ],
   "metadata": {
    "collapsed": false,
    "pycharm": {
     "name": "#%%\n"
    }
   }
  },
  {
   "cell_type": "code",
   "execution_count": 42,
   "outputs": [
    {
     "name": "stderr",
     "output_type": "stream",
     "text": [
      "/tmp/ipykernel_186290/99794849.py:1: SettingWithCopyWarning: \n",
      "A value is trying to be set on a copy of a slice from a DataFrame\n",
      "\n",
      "See the caveats in the documentation: https://pandas.pydata.org/pandas-docs/stable/user_guide/indexing.html#returning-a-view-versus-a-copy\n",
      "  bmey.rename(columns={'value' : 'bme280'}, inplace=True)\n"
     ]
    }
   ],
   "source": [
    "bmey.rename(columns={'value' : 'bme280'}, inplace=True)"
   ],
   "metadata": {
    "collapsed": false,
    "pycharm": {
     "name": "#%%\n"
    }
   }
  },
  {
   "cell_type": "code",
   "execution_count": 43,
   "outputs": [
    {
     "data": {
      "text/plain": "      bme280                created_at\n5986   23.13 2022-08-23 07:35:56+00:00\n5987   22.27 2022-08-23 07:36:56+00:00\n5988   22.28 2022-08-23 07:37:56+00:00\n5989   22.39 2022-08-23 07:38:56+00:00\n5990   22.24 2022-08-23 07:39:56+00:00\n...      ...                       ...\n7386   20.94 2022-08-24 06:56:29+00:00\n7387   20.91 2022-08-24 06:57:29+00:00\n7388   20.99 2022-08-24 06:58:29+00:00\n7389   20.93 2022-08-24 06:59:29+00:00\n7390   20.99 2022-08-24 07:00:29+00:00\n\n[1405 rows x 2 columns]",
      "text/html": "<div>\n<style scoped>\n    .dataframe tbody tr th:only-of-type {\n        vertical-align: middle;\n    }\n\n    .dataframe tbody tr th {\n        vertical-align: top;\n    }\n\n    .dataframe thead th {\n        text-align: right;\n    }\n</style>\n<table border=\"1\" class=\"dataframe\">\n  <thead>\n    <tr style=\"text-align: right;\">\n      <th></th>\n      <th>bme280</th>\n      <th>created_at</th>\n    </tr>\n  </thead>\n  <tbody>\n    <tr>\n      <th>5986</th>\n      <td>23.13</td>\n      <td>2022-08-23 07:35:56+00:00</td>\n    </tr>\n    <tr>\n      <th>5987</th>\n      <td>22.27</td>\n      <td>2022-08-23 07:36:56+00:00</td>\n    </tr>\n    <tr>\n      <th>5988</th>\n      <td>22.28</td>\n      <td>2022-08-23 07:37:56+00:00</td>\n    </tr>\n    <tr>\n      <th>5989</th>\n      <td>22.39</td>\n      <td>2022-08-23 07:38:56+00:00</td>\n    </tr>\n    <tr>\n      <th>5990</th>\n      <td>22.24</td>\n      <td>2022-08-23 07:39:56+00:00</td>\n    </tr>\n    <tr>\n      <th>...</th>\n      <td>...</td>\n      <td>...</td>\n    </tr>\n    <tr>\n      <th>7386</th>\n      <td>20.94</td>\n      <td>2022-08-24 06:56:29+00:00</td>\n    </tr>\n    <tr>\n      <th>7387</th>\n      <td>20.91</td>\n      <td>2022-08-24 06:57:29+00:00</td>\n    </tr>\n    <tr>\n      <th>7388</th>\n      <td>20.99</td>\n      <td>2022-08-24 06:58:29+00:00</td>\n    </tr>\n    <tr>\n      <th>7389</th>\n      <td>20.93</td>\n      <td>2022-08-24 06:59:29+00:00</td>\n    </tr>\n    <tr>\n      <th>7390</th>\n      <td>20.99</td>\n      <td>2022-08-24 07:00:29+00:00</td>\n    </tr>\n  </tbody>\n</table>\n<p>1405 rows × 2 columns</p>\n</div>"
     },
     "execution_count": 43,
     "metadata": {},
     "output_type": "execute_result"
    }
   ],
   "source": [
    "bmey"
   ],
   "metadata": {
    "collapsed": false,
    "pycharm": {
     "name": "#%%\n"
    }
   }
  },
  {
   "cell_type": "code",
   "execution_count": 44,
   "outputs": [
    {
     "name": "stderr",
     "output_type": "stream",
     "text": [
      "/tmp/ipykernel_186290/1817597245.py:1: SettingWithCopyWarning: \n",
      "A value is trying to be set on a copy of a slice from a DataFrame\n",
      "\n",
      "See the caveats in the documentation: https://pandas.pydata.org/pandas-docs/stable/user_guide/indexing.html#returning-a-view-versus-a-copy\n",
      "  tmp36y.rename(columns={'value' : 'bme280'}, inplace=True)\n"
     ]
    }
   ],
   "source": [
    "tmp36y.rename(columns={'value' : 'bme280'}, inplace=True)"
   ],
   "metadata": {
    "collapsed": false,
    "pycharm": {
     "name": "#%%\n"
    }
   }
  },
  {
   "cell_type": "code",
   "execution_count": 45,
   "outputs": [
    {
     "data": {
      "text/plain": "        bme280                created_at\n1524  24.94300 2022-08-23 07:37:46+00:00\n1525  25.50698 2022-08-23 07:38:46+00:00\n1526  25.02358 2022-08-23 07:39:46+00:00\n1527  25.42642 2022-08-23 07:40:46+00:00\n1528  25.42642 2022-08-23 07:41:46+00:00\n...        ...                       ...\n2921  24.21790 2022-08-24 06:54:48+00:00\n2922  23.97620 2022-08-24 06:55:48+00:00\n2923  24.21790 2022-08-24 06:56:48+00:00\n2924  23.97620 2022-08-24 06:57:48+00:00\n2925  24.29847 2022-08-24 06:58:48+00:00\n\n[1402 rows x 2 columns]",
      "text/html": "<div>\n<style scoped>\n    .dataframe tbody tr th:only-of-type {\n        vertical-align: middle;\n    }\n\n    .dataframe tbody tr th {\n        vertical-align: top;\n    }\n\n    .dataframe thead th {\n        text-align: right;\n    }\n</style>\n<table border=\"1\" class=\"dataframe\">\n  <thead>\n    <tr style=\"text-align: right;\">\n      <th></th>\n      <th>bme280</th>\n      <th>created_at</th>\n    </tr>\n  </thead>\n  <tbody>\n    <tr>\n      <th>1524</th>\n      <td>24.94300</td>\n      <td>2022-08-23 07:37:46+00:00</td>\n    </tr>\n    <tr>\n      <th>1525</th>\n      <td>25.50698</td>\n      <td>2022-08-23 07:38:46+00:00</td>\n    </tr>\n    <tr>\n      <th>1526</th>\n      <td>25.02358</td>\n      <td>2022-08-23 07:39:46+00:00</td>\n    </tr>\n    <tr>\n      <th>1527</th>\n      <td>25.42642</td>\n      <td>2022-08-23 07:40:46+00:00</td>\n    </tr>\n    <tr>\n      <th>1528</th>\n      <td>25.42642</td>\n      <td>2022-08-23 07:41:46+00:00</td>\n    </tr>\n    <tr>\n      <th>...</th>\n      <td>...</td>\n      <td>...</td>\n    </tr>\n    <tr>\n      <th>2921</th>\n      <td>24.21790</td>\n      <td>2022-08-24 06:54:48+00:00</td>\n    </tr>\n    <tr>\n      <th>2922</th>\n      <td>23.97620</td>\n      <td>2022-08-24 06:55:48+00:00</td>\n    </tr>\n    <tr>\n      <th>2923</th>\n      <td>24.21790</td>\n      <td>2022-08-24 06:56:48+00:00</td>\n    </tr>\n    <tr>\n      <th>2924</th>\n      <td>23.97620</td>\n      <td>2022-08-24 06:57:48+00:00</td>\n    </tr>\n    <tr>\n      <th>2925</th>\n      <td>24.29847</td>\n      <td>2022-08-24 06:58:48+00:00</td>\n    </tr>\n  </tbody>\n</table>\n<p>1402 rows × 2 columns</p>\n</div>"
     },
     "execution_count": 45,
     "metadata": {},
     "output_type": "execute_result"
    }
   ],
   "source": [
    "tmp36y"
   ],
   "metadata": {
    "collapsed": false,
    "pycharm": {
     "name": "#%%\n"
    }
   }
  },
  {
   "cell_type": "code",
   "execution_count": 46,
   "outputs": [
    {
     "data": {
      "text/plain": "numpy.ndarray"
     },
     "execution_count": 46,
     "metadata": {},
     "output_type": "execute_result"
    }
   ],
   "source": [
    "type(bmey['created_at'].values)"
   ],
   "metadata": {
    "collapsed": false,
    "pycharm": {
     "name": "#%%\n"
    }
   }
  },
  {
   "cell_type": "code",
   "execution_count": null,
   "outputs": [],
   "source": [],
   "metadata": {
    "collapsed": false,
    "pycharm": {
     "name": "#%%\n"
    }
   }
  }
 ],
 "metadata": {
  "kernelspec": {
   "display_name": "Python 3",
   "language": "python",
   "name": "python3"
  },
  "language_info": {
   "codemirror_mode": {
    "name": "ipython",
    "version": 2
   },
   "file_extension": ".py",
   "mimetype": "text/x-python",
   "name": "python",
   "nbconvert_exporter": "python",
   "pygments_lexer": "ipython2",
   "version": "2.7.6"
  }
 },
 "nbformat": 4,
 "nbformat_minor": 0
}