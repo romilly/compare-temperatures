{
 "cells": [
  {
   "cell_type": "code",
   "execution_count": 1,
   "metadata": {
    "pycharm": {
     "name": "#%%\n"
    }
   },
   "outputs": [],
   "source": [
    "import pandas\n",
    "from compare_temperatures.plot_temperatures import read_adafruit_feed_csv"
   ]
  },
  {
   "cell_type": "code",
   "execution_count": 2,
   "metadata": {
    "pycharm": {
     "name": "#%%\n"
    }
   },
   "outputs": [],
   "source": [
    "yesterday = '2022-08-23'"
   ]
  },
  {
   "cell_type": "code",
   "execution_count": 3,
   "metadata": {
    "pycharm": {
     "name": "#%%\n"
    }
   },
   "outputs": [],
   "source": [
    "bme280 = read_adafruit_feed_csv('data/bme280-temp-20220824-0701.csv', 'bme280', yesterday)\n",
    "tmp36 = read_adafruit_feed_csv('data/temp-tmp36-20220824-0659.csv', 'tmp36', yesterday)"
   ]
  },
  {
   "cell_type": "code",
   "execution_count": 4,
   "metadata": {
    "pycharm": {
     "name": "#%%\n"
    }
   },
   "outputs": [
    {
     "data": {
      "text/plain": "      bme280                   created\n5986   23.13 2022-08-23 07:35:00+00:00\n5987   22.27 2022-08-23 07:36:00+00:00\n5988   22.28 2022-08-23 07:37:00+00:00\n5989   22.39 2022-08-23 07:38:00+00:00\n5990   22.24 2022-08-23 07:39:00+00:00\n...      ...                       ...\n7386   20.94 2022-08-24 06:56:00+00:00\n7387   20.91 2022-08-24 06:57:00+00:00\n7388   20.99 2022-08-24 06:58:00+00:00\n7389   20.93 2022-08-24 06:59:00+00:00\n7390   20.99 2022-08-24 07:00:00+00:00\n\n[1405 rows x 2 columns]",
      "text/html": "<div>\n<style scoped>\n    .dataframe tbody tr th:only-of-type {\n        vertical-align: middle;\n    }\n\n    .dataframe tbody tr th {\n        vertical-align: top;\n    }\n\n    .dataframe thead th {\n        text-align: right;\n    }\n</style>\n<table border=\"1\" class=\"dataframe\">\n  <thead>\n    <tr style=\"text-align: right;\">\n      <th></th>\n      <th>bme280</th>\n      <th>created</th>\n    </tr>\n  </thead>\n  <tbody>\n    <tr>\n      <th>5986</th>\n      <td>23.13</td>\n      <td>2022-08-23 07:35:00+00:00</td>\n    </tr>\n    <tr>\n      <th>5987</th>\n      <td>22.27</td>\n      <td>2022-08-23 07:36:00+00:00</td>\n    </tr>\n    <tr>\n      <th>5988</th>\n      <td>22.28</td>\n      <td>2022-08-23 07:37:00+00:00</td>\n    </tr>\n    <tr>\n      <th>5989</th>\n      <td>22.39</td>\n      <td>2022-08-23 07:38:00+00:00</td>\n    </tr>\n    <tr>\n      <th>5990</th>\n      <td>22.24</td>\n      <td>2022-08-23 07:39:00+00:00</td>\n    </tr>\n    <tr>\n      <th>...</th>\n      <td>...</td>\n      <td>...</td>\n    </tr>\n    <tr>\n      <th>7386</th>\n      <td>20.94</td>\n      <td>2022-08-24 06:56:00+00:00</td>\n    </tr>\n    <tr>\n      <th>7387</th>\n      <td>20.91</td>\n      <td>2022-08-24 06:57:00+00:00</td>\n    </tr>\n    <tr>\n      <th>7388</th>\n      <td>20.99</td>\n      <td>2022-08-24 06:58:00+00:00</td>\n    </tr>\n    <tr>\n      <th>7389</th>\n      <td>20.93</td>\n      <td>2022-08-24 06:59:00+00:00</td>\n    </tr>\n    <tr>\n      <th>7390</th>\n      <td>20.99</td>\n      <td>2022-08-24 07:00:00+00:00</td>\n    </tr>\n  </tbody>\n</table>\n<p>1405 rows × 2 columns</p>\n</div>"
     },
     "execution_count": 4,
     "metadata": {},
     "output_type": "execute_result"
    }
   ],
   "source": [
    "bme280"
   ]
  },
  {
   "cell_type": "code",
   "execution_count": 5,
   "metadata": {
    "pycharm": {
     "name": "#%%\n"
    }
   },
   "outputs": [
    {
     "data": {
      "text/plain": "         tmp36                   created  bme280\n0     24.94300 2022-08-23 07:37:00+00:00   22.28\n1     25.50698 2022-08-23 07:38:00+00:00   22.39\n2     25.02358 2022-08-23 07:39:00+00:00   22.24\n3     25.42642 2022-08-23 07:40:00+00:00   22.20\n4     25.42642 2022-08-23 07:41:00+00:00   22.01\n...        ...                       ...     ...\n1400  24.21790 2022-08-24 06:54:00+00:00   20.95\n1401  23.97620 2022-08-24 06:55:00+00:00   20.98\n1402  24.21790 2022-08-24 06:56:00+00:00   20.94\n1403  23.97620 2022-08-24 06:57:00+00:00   20.91\n1404  24.29847 2022-08-24 06:58:00+00:00   20.99\n\n[1405 rows x 3 columns]",
      "text/html": "<div>\n<style scoped>\n    .dataframe tbody tr th:only-of-type {\n        vertical-align: middle;\n    }\n\n    .dataframe tbody tr th {\n        vertical-align: top;\n    }\n\n    .dataframe thead th {\n        text-align: right;\n    }\n</style>\n<table border=\"1\" class=\"dataframe\">\n  <thead>\n    <tr style=\"text-align: right;\">\n      <th></th>\n      <th>tmp36</th>\n      <th>created</th>\n      <th>bme280</th>\n    </tr>\n  </thead>\n  <tbody>\n    <tr>\n      <th>0</th>\n      <td>24.94300</td>\n      <td>2022-08-23 07:37:00+00:00</td>\n      <td>22.28</td>\n    </tr>\n    <tr>\n      <th>1</th>\n      <td>25.50698</td>\n      <td>2022-08-23 07:38:00+00:00</td>\n      <td>22.39</td>\n    </tr>\n    <tr>\n      <th>2</th>\n      <td>25.02358</td>\n      <td>2022-08-23 07:39:00+00:00</td>\n      <td>22.24</td>\n    </tr>\n    <tr>\n      <th>3</th>\n      <td>25.42642</td>\n      <td>2022-08-23 07:40:00+00:00</td>\n      <td>22.20</td>\n    </tr>\n    <tr>\n      <th>4</th>\n      <td>25.42642</td>\n      <td>2022-08-23 07:41:00+00:00</td>\n      <td>22.01</td>\n    </tr>\n    <tr>\n      <th>...</th>\n      <td>...</td>\n      <td>...</td>\n      <td>...</td>\n    </tr>\n    <tr>\n      <th>1400</th>\n      <td>24.21790</td>\n      <td>2022-08-24 06:54:00+00:00</td>\n      <td>20.95</td>\n    </tr>\n    <tr>\n      <th>1401</th>\n      <td>23.97620</td>\n      <td>2022-08-24 06:55:00+00:00</td>\n      <td>20.98</td>\n    </tr>\n    <tr>\n      <th>1402</th>\n      <td>24.21790</td>\n      <td>2022-08-24 06:56:00+00:00</td>\n      <td>20.94</td>\n    </tr>\n    <tr>\n      <th>1403</th>\n      <td>23.97620</td>\n      <td>2022-08-24 06:57:00+00:00</td>\n      <td>20.91</td>\n    </tr>\n    <tr>\n      <th>1404</th>\n      <td>24.29847</td>\n      <td>2022-08-24 06:58:00+00:00</td>\n      <td>20.99</td>\n    </tr>\n  </tbody>\n</table>\n<p>1405 rows × 3 columns</p>\n</div>"
     },
     "execution_count": 5,
     "metadata": {},
     "output_type": "execute_result"
    }
   ],
   "source": [
    "merged_temps = pandas.merge(tmp36, bme280)\n",
    "merged_temps"
   ]
  },
  {
   "cell_type": "code",
   "execution_count": 6,
   "metadata": {
    "pycharm": {
     "name": "#%%\n"
    }
   },
   "outputs": [],
   "source": [
    "merged_temps['difference'] = merged_temps['tmp36'] - merged_temps['bme280']"
   ]
  },
  {
   "cell_type": "code",
   "execution_count": 7,
   "metadata": {
    "pycharm": {
     "name": "#%%\n"
    }
   },
   "outputs": [
    {
     "data": {
      "text/plain": "         tmp36                   created  bme280  difference\n0     24.94300 2022-08-23 07:37:00+00:00   22.28     2.66300\n1     25.50698 2022-08-23 07:38:00+00:00   22.39     3.11698\n2     25.02358 2022-08-23 07:39:00+00:00   22.24     2.78358\n3     25.42642 2022-08-23 07:40:00+00:00   22.20     3.22642\n4     25.42642 2022-08-23 07:41:00+00:00   22.01     3.41642\n...        ...                       ...     ...         ...\n1400  24.21790 2022-08-24 06:54:00+00:00   20.95     3.26790\n1401  23.97620 2022-08-24 06:55:00+00:00   20.98     2.99620\n1402  24.21790 2022-08-24 06:56:00+00:00   20.94     3.27790\n1403  23.97620 2022-08-24 06:57:00+00:00   20.91     3.06620\n1404  24.29847 2022-08-24 06:58:00+00:00   20.99     3.30847\n\n[1405 rows x 4 columns]",
      "text/html": "<div>\n<style scoped>\n    .dataframe tbody tr th:only-of-type {\n        vertical-align: middle;\n    }\n\n    .dataframe tbody tr th {\n        vertical-align: top;\n    }\n\n    .dataframe thead th {\n        text-align: right;\n    }\n</style>\n<table border=\"1\" class=\"dataframe\">\n  <thead>\n    <tr style=\"text-align: right;\">\n      <th></th>\n      <th>tmp36</th>\n      <th>created</th>\n      <th>bme280</th>\n      <th>difference</th>\n    </tr>\n  </thead>\n  <tbody>\n    <tr>\n      <th>0</th>\n      <td>24.94300</td>\n      <td>2022-08-23 07:37:00+00:00</td>\n      <td>22.28</td>\n      <td>2.66300</td>\n    </tr>\n    <tr>\n      <th>1</th>\n      <td>25.50698</td>\n      <td>2022-08-23 07:38:00+00:00</td>\n      <td>22.39</td>\n      <td>3.11698</td>\n    </tr>\n    <tr>\n      <th>2</th>\n      <td>25.02358</td>\n      <td>2022-08-23 07:39:00+00:00</td>\n      <td>22.24</td>\n      <td>2.78358</td>\n    </tr>\n    <tr>\n      <th>3</th>\n      <td>25.42642</td>\n      <td>2022-08-23 07:40:00+00:00</td>\n      <td>22.20</td>\n      <td>3.22642</td>\n    </tr>\n    <tr>\n      <th>4</th>\n      <td>25.42642</td>\n      <td>2022-08-23 07:41:00+00:00</td>\n      <td>22.01</td>\n      <td>3.41642</td>\n    </tr>\n    <tr>\n      <th>...</th>\n      <td>...</td>\n      <td>...</td>\n      <td>...</td>\n      <td>...</td>\n    </tr>\n    <tr>\n      <th>1400</th>\n      <td>24.21790</td>\n      <td>2022-08-24 06:54:00+00:00</td>\n      <td>20.95</td>\n      <td>3.26790</td>\n    </tr>\n    <tr>\n      <th>1401</th>\n      <td>23.97620</td>\n      <td>2022-08-24 06:55:00+00:00</td>\n      <td>20.98</td>\n      <td>2.99620</td>\n    </tr>\n    <tr>\n      <th>1402</th>\n      <td>24.21790</td>\n      <td>2022-08-24 06:56:00+00:00</td>\n      <td>20.94</td>\n      <td>3.27790</td>\n    </tr>\n    <tr>\n      <th>1403</th>\n      <td>23.97620</td>\n      <td>2022-08-24 06:57:00+00:00</td>\n      <td>20.91</td>\n      <td>3.06620</td>\n    </tr>\n    <tr>\n      <th>1404</th>\n      <td>24.29847</td>\n      <td>2022-08-24 06:58:00+00:00</td>\n      <td>20.99</td>\n      <td>3.30847</td>\n    </tr>\n  </tbody>\n</table>\n<p>1405 rows × 4 columns</p>\n</div>"
     },
     "execution_count": 7,
     "metadata": {},
     "output_type": "execute_result"
    }
   ],
   "source": [
    "merged_temps"
   ]
  },
  {
   "cell_type": "code",
   "execution_count": 8,
   "metadata": {
    "pycharm": {
     "name": "#%%\n"
    }
   },
   "outputs": [
    {
     "data": {
      "text/plain": "0.992126011927515"
     },
     "execution_count": 8,
     "metadata": {},
     "output_type": "execute_result"
    }
   ],
   "source": [
    "merged_temps['tmp36'].corr(merged_temps['bme280'])"
   ]
  },
  {
   "cell_type": "code",
   "execution_count": 8,
   "metadata": {
    "pycharm": {
     "name": "#%%\n"
    }
   },
   "outputs": [],
   "source": []
  },
  {
   "cell_type": "code",
   "execution_count": 8,
   "metadata": {
    "pycharm": {
     "name": "#%%\n"
    }
   },
   "outputs": [],
   "source": []
  }
 ],
 "metadata": {
  "kernelspec": {
   "display_name": "Python 3 (ipykernel)",
   "language": "python",
   "name": "python3"
  },
  "language_info": {
   "codemirror_mode": {
    "name": "ipython",
    "version": 3
   },
   "file_extension": ".py",
   "mimetype": "text/x-python",
   "name": "python",
   "nbconvert_exporter": "python",
   "pygments_lexer": "ipython3",
   "version": "3.8.10"
  }
 },
 "nbformat": 4,
 "nbformat_minor": 1
}