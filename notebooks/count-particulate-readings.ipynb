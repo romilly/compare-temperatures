{
 "cells": [
  {
   "cell_type": "code",
   "execution_count": 1,
   "metadata": {
    "collapsed": true,
    "pycharm": {
     "name": "#%%\n"
    }
   },
   "outputs": [],
   "source": [
    "import csv\n",
    "from collections import Counter"
   ]
  },
  {
   "cell_type": "code",
   "execution_count": 2,
   "outputs": [],
   "source": [
    "with open('data/particles-03um-20221013-1049.csv') as csvfile:\n",
    "    particulate_reader = csv.reader(csvfile)\n",
    "    counter = Counter(row[3][:10] for row in particulate_reader)"
   ],
   "metadata": {
    "collapsed": false,
    "pycharm": {
     "name": "#%%\n"
    }
   }
  },
  {
   "cell_type": "code",
   "execution_count": 3,
   "outputs": [
    {
     "data": {
      "text/plain": "Counter({'created_at': 1,\n         '2022-09-25': 623,\n         '2022-09-26': 1186,\n         '2022-09-27': 1440,\n         '2022-09-28': 1437,\n         '2022-09-29': 1440,\n         '2022-09-30': 1439,\n         '2022-10-01': 1440,\n         '2022-10-02': 1440,\n         '2022-10-03': 1436,\n         '2022-10-04': 1440,\n         '2022-10-05': 1440,\n         '2022-10-06': 1440,\n         '2022-10-07': 1419,\n         '2022-10-08': 1440,\n         '2022-10-09': 1440,\n         '2022-10-10': 1437,\n         '2022-10-11': 1439,\n         '2022-10-12': 1440,\n         '2022-10-13': 650})"
     },
     "execution_count": 3,
     "metadata": {},
     "output_type": "execute_result"
    }
   ],
   "source": [
    "counter"
   ],
   "metadata": {
    "collapsed": false,
    "pycharm": {
     "name": "#%%\n"
    }
   }
  }
 ],
 "metadata": {
  "kernelspec": {
   "display_name": "Python 3",
   "language": "python",
   "name": "python3"
  },
  "language_info": {
   "codemirror_mode": {
    "name": "ipython",
    "version": 2
   },
   "file_extension": ".py",
   "mimetype": "text/x-python",
   "name": "python",
   "nbconvert_exporter": "python",
   "pygments_lexer": "ipython2",
   "version": "2.7.6"
  }
 },
 "nbformat": 4,
 "nbformat_minor": 0
}